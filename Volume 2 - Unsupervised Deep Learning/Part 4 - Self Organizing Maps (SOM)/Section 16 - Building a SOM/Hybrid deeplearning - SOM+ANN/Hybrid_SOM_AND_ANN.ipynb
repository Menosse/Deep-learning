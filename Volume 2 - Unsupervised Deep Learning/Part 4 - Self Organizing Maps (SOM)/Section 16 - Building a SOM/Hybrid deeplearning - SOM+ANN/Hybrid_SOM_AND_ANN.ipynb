{
  "nbformat": 4,
  "nbformat_minor": 0,
  "metadata": {
    "colab": {
      "name": "Hybrid_SOM_AND_ANN.ipynb",
      "provenance": [],
      "collapsed_sections": []
    },
    "kernelspec": {
      "name": "python3",
      "display_name": "Python 3"
    }
  },
  "cells": [
    {
      "cell_type": "markdown",
      "metadata": {
        "id": "t9oX7AL3nyLm",
        "colab_type": "text"
      },
      "source": [
        "#Self Organizing Map"
      ]
    },
    {
      "cell_type": "markdown",
      "metadata": {
        "id": "r9maNhdd65pB",
        "colab_type": "text"
      },
      "source": [
        "##Install MiniSom Package"
      ]
    },
    {
      "cell_type": "code",
      "metadata": {
        "id": "1KB28WUso0Bj",
        "colab_type": "code",
        "colab": {
          "base_uri": "https://localhost:8080/",
          "height": 34
        },
        "outputId": "43e8adf3-eeff-4a05-906e-965ff8dca49c"
      },
      "source": [
        "!pip install MiniSom"
      ],
      "execution_count": 44,
      "outputs": [
        {
          "output_type": "stream",
          "text": [
            "Requirement already satisfied: MiniSom in /usr/local/lib/python3.6/dist-packages (2.2.6)\n"
          ],
          "name": "stdout"
        }
      ]
    },
    {
      "cell_type": "code",
      "metadata": {
        "id": "YKBORChW6MRT",
        "colab_type": "code",
        "colab": {
          "base_uri": "https://localhost:8080/",
          "height": 34
        },
        "outputId": "922cd142-a20e-4a73-f544-66436f66ee4b"
      },
      "source": [
        "from google.colab import drive\n",
        "drive.mount('/content/drive')"
      ],
      "execution_count": 24,
      "outputs": [
        {
          "output_type": "stream",
          "text": [
            "Drive already mounted at /content/drive; to attempt to forcibly remount, call drive.mount(\"/content/drive\", force_remount=True).\n"
          ],
          "name": "stdout"
        }
      ]
    },
    {
      "cell_type": "markdown",
      "metadata": {
        "id": "6AX0Y23PnyOI",
        "colab_type": "text"
      },
      "source": [
        "### Importing the libraries\n"
      ]
    },
    {
      "cell_type": "code",
      "metadata": {
        "id": "gaSkOFKKBB3b",
        "colab_type": "code",
        "colab": {}
      },
      "source": [
        "import numpy as np\n",
        "import pandas as pd\n",
        "import matplotlib.pyplot as plt\n",
        "from minisom import MiniSom\n",
        "from sklearn.preprocessing import MinMaxScaler\n",
        "from pylab import bone, pcolor, colorbar, plot, show\n",
        "from sklearn.preprocessing import StandardScaler\n",
        "import tensorflow as tf"
      ],
      "execution_count": 45,
      "outputs": []
    },
    {
      "cell_type": "markdown",
      "metadata": {
        "id": "SCl7ERn_n539",
        "colab_type": "text"
      },
      "source": [
        "## Importing the dataset"
      ]
    },
    {
      "cell_type": "code",
      "metadata": {
        "id": "4hgeaN3CoRfl",
        "colab_type": "code",
        "colab": {}
      },
      "source": [
        "#dataset = pd.read_csv('Credit_Card_Applications.csv')\n",
        "dataset = pd.read_csv('/content/drive/My Drive/Colab Notebooks/Hybrid/Credit_Card_Applications.csv')\n",
        "X = dataset.iloc[:, :-1].values\n",
        "y = dataset.iloc[:, -1].values"
      ],
      "execution_count": 51,
      "outputs": []
    },
    {
      "cell_type": "markdown",
      "metadata": {
        "id": "fYHJ0dd6n-d4",
        "colab_type": "text"
      },
      "source": [
        "## Feature Scaling\n"
      ]
    },
    {
      "cell_type": "code",
      "metadata": {
        "id": "sY7JiUxwoSOd",
        "colab_type": "code",
        "colab": {}
      },
      "source": [
        "sc = MinMaxScaler(feature_range = (0,1))\n",
        "X = sc.fit_transform(X)\n"
      ],
      "execution_count": 52,
      "outputs": []
    },
    {
      "cell_type": "markdown",
      "metadata": {
        "id": "aPp-7wfNoAhR",
        "colab_type": "text"
      },
      "source": [
        "##Training the SOM\n"
      ]
    },
    {
      "cell_type": "code",
      "metadata": {
        "id": "3iuAhM6ooS0k",
        "colab_type": "code",
        "colab": {}
      },
      "source": [
        "som = MiniSom(x=10, y=10, input_len= len(X[0]), sigma= 1.0, learning_rate = 0.5)\n",
        "som.random_weights_init(X)\n",
        "som.train_random(data = X, num_iteration = 100)"
      ],
      "execution_count": 53,
      "outputs": []
    },
    {
      "cell_type": "markdown",
      "metadata": {
        "id": "YiU27C-ToCnH",
        "colab_type": "text"
      },
      "source": [
        "##Visualizing the results\n"
      ]
    },
    {
      "cell_type": "code",
      "metadata": {
        "id": "XzrIX4fZoTQj",
        "colab_type": "code",
        "colab": {
          "base_uri": "https://localhost:8080/",
          "height": 269
        },
        "outputId": "caa27edf-a2bf-4f92-d5cc-b9c47340cd50"
      },
      "source": [
        "bone()\n",
        "pcolor(som.distance_map().T)\n",
        "colorbar()\n",
        "markers = ['o', 's']\n",
        "colors = ['r', 'g']\n",
        "for i, x in enumerate(X):\n",
        "    w = som.winner(x)\n",
        "    plot(w[0] + 0.5,\n",
        "         w[1] + 0.5,\n",
        "         markers[y[i]],\n",
        "         markeredgecolor = colors[y[i]],\n",
        "         markerfacecolor = 'None',\n",
        "         markersize = 10,\n",
        "         markeredgewidth = 2)\n",
        "show()"
      ],
      "execution_count": 54,
      "outputs": [
        {
          "output_type": "display_data",
          "data": {
            "image/png": "[encoded data removed]",
            "text/plain": [
              "<Figure size 432x288 with 2 Axes>"
            ]
          },
          "metadata": {
            "tags": [],
            "needs_background": "light"
          }
        }
      ]
    },
    {
      "cell_type": "markdown",
      "metadata": {
        "colab_type": "text",
        "id": "UM2c4aHHmOor"
      },
      "source": [
        "## Finding the frauds\n"
      ]
    },
    {
      "cell_type": "code",
      "metadata": {
        "id": "4xd-jb8doTlM",
        "colab_type": "code",
        "colab": {}
      },
      "source": [
        "  mappings = som.win_map(X)\n",
        "# The mappings below depends on the highest MID (Mean interneuron distance)\n",
        "frauds = np.concatenate((mappings[(4,5)], mappings[(6,7)], mappings[(4,7)], mappings[(7,3)]), axis = 0)\n",
        "frauds = sc.inverse_transform(frauds)"
      ],
      "execution_count": 55,
      "outputs": []
    },
    {
      "cell_type": "code",
      "metadata": {
        "id": "3-VdoHnpi230",
        "colab_type": "code",
        "colab": {}
      },
      "source": [
        "# matrix of features\n",
        "customers = dataset.iloc[:, 1:].values"
      ],
      "execution_count": 56,
      "outputs": []
    },
    {
      "cell_type": "code",
      "metadata": {
        "id": "Z3PQtmUOk0pA",
        "colab_type": "code",
        "colab": {}
      },
      "source": [
        "# Create dependent variables\n",
        "is_fraud = np.zeros(len(dataset))\n",
        "for i in range(len(dataset)):\n",
        "  if dataset.iloc[i,0] in frauds:\n",
        "    is_fraud[i] = 1  "
      ],
      "execution_count": 57,
      "outputs": []
    },
    {
      "cell_type": "markdown",
      "metadata": {
        "id": "4C-I_jBfoEkP",
        "colab_type": "text"
      },
      "source": [
        "## Create ANN\n"
      ]
    },
    {
      "cell_type": "code",
      "metadata": {
        "id": "f5rhLbNWmUk_",
        "colab_type": "code",
        "colab": {}
      },
      "source": [
        "sc = StandardScaler()\n",
        "customers = sc.fit_transform(customers)\n",
        "ann = tf.keras.models.Sequential()\n",
        "ann.add(tf.keras.layers.Dense(units=1, activation=\"relu\"))\n",
        "ann.add(tf.keras.layers.Dense(units=1, activation=\"sigmoid\"))\n",
        "ann.compile(optimizer=\"adam\",loss=\"binary_crossentropy\", metrics = ['accuracy'])"
      ],
      "execution_count": 61,
      "outputs": []
    },
    {
      "cell_type": "markdown",
      "metadata": {
        "colab_type": "text",
        "id": "0SjfpqGJn15i"
      },
      "source": [
        "## Training ANN\n"
      ]
    },
    {
      "cell_type": "code",
      "metadata": {
        "id": "bvN2jraoojQ7",
        "colab_type": "code",
        "colab": {
          "base_uri": "https://localhost:8080/",
          "height": 1000
        },
        "outputId": "789f6c7e-0c9e-47c2-fea2-6ae4bde3f8d6"
      },
      "source": [
        "ann.fit(customers, is_fraud, batch_size=1, epochs=30)"
      ],
      "execution_count": 66,
      "outputs": [
        {
          "output_type": "stream",
          "text": [
            "Epoch 1/30\n",
            "690/690 [==============================] - 1s 964us/step - loss: 0.2696 - accuracy: 0.8783\n",
            "Epoch 2/30\n",
            "690/690 [==============================] - 1s 919us/step - loss: 0.2517 - accuracy: 0.8783\n",
            "Epoch 3/30\n",
            "690/690 [==============================] - 1s 960us/step - loss: 0.2373 - accuracy: 0.8783\n",
            "Epoch 4/30\n",
            "690/690 [==============================] - 1s 976us/step - loss: 0.2250 - accuracy: 0.8783\n",
            "Epoch 5/30\n",
            "690/690 [==============================] - 1s 943us/step - loss: 0.2145 - accuracy: 0.8783\n",
            "Epoch 6/30\n",
            "690/690 [==============================] - 1s 968us/step - loss: 0.2051 - accuracy: 0.8783\n",
            "Epoch 7/30\n",
            "690/690 [==============================] - 1s 1ms/step - loss: 0.1981 - accuracy: 0.8783\n",
            "Epoch 8/30\n",
            "690/690 [==============================] - 1s 935us/step - loss: 0.1910 - accuracy: 0.8783\n",
            "Epoch 9/30\n",
            "690/690 [==============================] - 1s 953us/step - loss: 0.1859 - accuracy: 0.8783\n",
            "Epoch 10/30\n",
            "690/690 [==============================] - 1s 927us/step - loss: 0.1818 - accuracy: 0.8783\n",
            "Epoch 11/30\n",
            "690/690 [==============================] - 1s 916us/step - loss: 0.1767 - accuracy: 0.8783\n",
            "Epoch 12/30\n",
            "690/690 [==============================] - 1s 959us/step - loss: 0.1729 - accuracy: 0.8783\n",
            "Epoch 13/30\n",
            "690/690 [==============================] - 1s 978us/step - loss: 0.1700 - accuracy: 0.8783\n",
            "Epoch 14/30\n",
            "690/690 [==============================] - 1s 1ms/step - loss: 0.1679 - accuracy: 0.8783\n",
            "Epoch 15/30\n",
            "690/690 [==============================] - 1s 1ms/step - loss: 0.1651 - accuracy: 0.8783\n",
            "Epoch 16/30\n",
            "690/690 [==============================] - 1s 953us/step - loss: 0.1643 - accuracy: 0.8783\n",
            "Epoch 17/30\n",
            "690/690 [==============================] - 1s 1ms/step - loss: 0.1626 - accuracy: 0.8783\n",
            "Epoch 18/30\n",
            "690/690 [==============================] - 1s 971us/step - loss: 0.1611 - accuracy: 0.8942\n",
            "Epoch 19/30\n",
            "690/690 [==============================] - 1s 947us/step - loss: 0.1608 - accuracy: 0.9058\n",
            "Epoch 20/30\n",
            "690/690 [==============================] - 1s 999us/step - loss: 0.1588 - accuracy: 0.9116\n",
            "Epoch 21/30\n",
            "690/690 [==============================] - 1s 1ms/step - loss: 0.1593 - accuracy: 0.9072\n",
            "Epoch 22/30\n",
            "690/690 [==============================] - 1s 963us/step - loss: 0.1578 - accuracy: 0.9116\n",
            "Epoch 23/30\n",
            "690/690 [==============================] - 1s 920us/step - loss: 0.1583 - accuracy: 0.9072\n",
            "Epoch 24/30\n",
            "690/690 [==============================] - 1s 937us/step - loss: 0.1568 - accuracy: 0.9101\n",
            "Epoch 25/30\n",
            "690/690 [==============================] - 1s 932us/step - loss: 0.1561 - accuracy: 0.9145\n",
            "Epoch 26/30\n",
            "690/690 [==============================] - 1s 937us/step - loss: 0.1588 - accuracy: 0.9116\n",
            "Epoch 27/30\n",
            "690/690 [==============================] - 1s 928us/step - loss: 0.1561 - accuracy: 0.9087\n",
            "Epoch 28/30\n",
            "690/690 [==============================] - 1s 951us/step - loss: 0.1563 - accuracy: 0.9101\n",
            "Epoch 29/30\n",
            "690/690 [==============================] - 1s 1ms/step - loss: 0.1557 - accuracy: 0.9130\n",
            "Epoch 30/30\n",
            "690/690 [==============================] - 1s 967us/step - loss: 0.1562 - accuracy: 0.9101\n"
          ],
          "name": "stdout"
        },
        {
          "output_type": "execute_result",
          "data": {
            "text/plain": [
              "<tensorflow.python.keras.callbacks.History at 0x7fc133e96630>"
            ]
          },
          "metadata": {
            "tags": []
          },
          "execution_count": 66
        }
      ]
    },
    {
      "cell_type": "markdown",
      "metadata": {
        "id": "KPybszV-o0eG",
        "colab_type": "text"
      },
      "source": [
        "## Predicting test set results"
      ]
    },
    {
      "cell_type": "code",
      "metadata": {
        "id": "SHRDhVUso5fa",
        "colab_type": "code",
        "colab": {}
      },
      "source": [
        "y_pred = ann.predict(customers)\n",
        "y_pred = np.concatenate((dataset.iloc[:, 0:1].values, y_pred), axis=1)\n",
        "y_pred = y_pred[y_pred[:, 1].argsort()]"
      ],
      "execution_count": 75,
      "outputs": []
    },
    {
      "cell_type": "code",
      "metadata": {
        "id": "Bu1BRu8RpUNa",
        "colab_type": "code",
        "colab": {
          "base_uri": "https://localhost:8080/",
          "height": 136
        },
        "outputId": "963f98cf-94c5-4aeb-e178-508ec5db849b"
      },
      "source": [
        "print(y_pred)"
      ],
      "execution_count": 72,
      "outputs": [
        {
          "output_type": "stream",
          "text": [
            "[[1.55941330e+07 1.15445660e-10]\n",
            " [1.57997850e+07 1.40623568e-10]\n",
            " [1.57355720e+07 4.18803103e-10]\n",
            " ...\n",
            " [1.57053790e+07 5.63103080e-01]\n",
            " [1.57525780e+07 5.63103080e-01]\n",
            " [1.56729120e+07 5.63103080e-01]]\n"
          ],
          "name": "stdout"
        }
      ]
    }
  ]
}
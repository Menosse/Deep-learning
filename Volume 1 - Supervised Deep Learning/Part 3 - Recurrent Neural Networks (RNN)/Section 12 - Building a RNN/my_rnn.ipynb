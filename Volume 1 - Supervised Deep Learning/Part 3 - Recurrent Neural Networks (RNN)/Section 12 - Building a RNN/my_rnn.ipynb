{
  "nbformat": 4,
  "nbformat_minor": 0,
  "metadata": {
    "colab": {
      "name": "myrnn.ipynb",
      "provenance": [],
      "collapsed_sections": []
    },
    "kernelspec": {
      "name": "python3",
      "display_name": "Python 3"
    }
  },
  "cells": [
    {
      "cell_type": "markdown",
      "metadata": {
        "id": "6-mFJnQU5HM0",
        "colab_type": "text"
      },
      "source": [
        "Import libs\n"
      ]
    },
    {
      "cell_type": "code",
      "metadata": {
        "id": "nWj7cuLH1kyQ",
        "colab_type": "code",
        "colab": {}
      },
      "source": [
        "import numpy as np\n",
        "import pandas as pd\n",
        "import matplotlib.pyplot as plt\n",
        "from sklearn.preprocessing import MinMaxScaler\n",
        "from keras.models import Sequential\n",
        "from keras.layers import Dense\n",
        "from keras.layers import LSTM\n",
        "from keras.layers import Dropout\n",
        "\n",
        "numberOfSteps = 120\n",
        "numberOfNeurons = 100\n",
        "dropoutRate = 0.2\n",
        "denseUnits = 1\n",
        "opt = \"adam\"\n",
        "lossFunction = \"mean_squared_error\""
      ],
      "execution_count": 43,
      "outputs": []
    },
    {
      "cell_type": "markdown",
      "metadata": {
        "id": "RZpGcxgK5Kug",
        "colab_type": "text"
      },
      "source": [
        "Import train data"
      ]
    },
    {
      "cell_type": "code",
      "metadata": {
        "id": "_ywBq7Jn2G_J",
        "colab_type": "code",
        "colab": {}
      },
      "source": [
        "dataset_train = pd.read_csv('/content/drive/My Drive/Colab Notebooks/rnn/Google_Stock_Price_Train.csv')\n",
        "training_set = dataset_train.iloc[:, 1:2].values"
      ],
      "execution_count": 35,
      "outputs": []
    },
    {
      "cell_type": "markdown",
      "metadata": {
        "id": "VcWr-Vwc3hAe",
        "colab_type": "text"
      },
      "source": [
        "Feature scailing"
      ]
    },
    {
      "cell_type": "code",
      "metadata": {
        "id": "fn3Hj29p3jMX",
        "colab_type": "code",
        "colab": {}
      },
      "source": [
        "sc = MinMaxScaler(feature_range=(0,1))\n",
        "training_set_scaled = sc.fit_transform(training_set)"
      ],
      "execution_count": 36,
      "outputs": []
    },
    {
      "cell_type": "markdown",
      "metadata": {
        "id": "Lei90CHS49vB",
        "colab_type": "text"
      },
      "source": [
        "Create 60 timesteps and 1 output"
      ]
    },
    {
      "cell_type": "code",
      "metadata": {
        "id": "Wqmq1LLW5FsD",
        "colab_type": "code",
        "colab": {}
      },
      "source": [
        "X_train = []\n",
        "y_train = []\n",
        "for i in range(numberOfSteps, len(training_set_scaled)):\n",
        "  X_train.append(training_set_scaled[i-numberOfSteps:i, 0])\n",
        "  y_train.append(training_set_scaled[i, 0])\n",
        "X_train, y_train = np.array(X_train), np.array(y_train)"
      ],
      "execution_count": 37,
      "outputs": []
    },
    {
      "cell_type": "markdown",
      "metadata": {
        "id": "Ka3PFD2w8Weg",
        "colab_type": "text"
      },
      "source": [
        "Reshaping"
      ]
    },
    {
      "cell_type": "code",
      "metadata": {
        "id": "yFubQRCQ8Xi4",
        "colab_type": "code",
        "colab": {}
      },
      "source": [
        "X_train = np.reshape(X_train,(X_train.shape[0], X_train.shape[1], 1))"
      ],
      "execution_count": 38,
      "outputs": []
    },
    {
      "cell_type": "markdown",
      "metadata": {
        "id": "jRtq9SdC-lmk",
        "colab_type": "text"
      },
      "source": [
        "Building RNN - Stacked LSTM /\n",
        "Initialize RNN"
      ]
    },
    {
      "cell_type": "code",
      "metadata": {
        "id": "_hNSzoPb_KRb",
        "colab_type": "code",
        "colab": {}
      },
      "source": [
        "# Initialize RNN and first LSTM layer\n",
        "regressor = Sequential()\n",
        "regressor.add(LSTM(units=numberOfNeurons, return_sequences=True, input_shape=(X_train.shape[1],1)))\n",
        "regressor.add(Dropout(dropoutRate))\n",
        "\n",
        "# Add second LSTM with Dropout regularization\n",
        "regressor.add(LSTM(units=numberOfNeurons, return_sequences=True))\n",
        "regressor.add(Dropout(dropoutRate))\n",
        "\n",
        "# Add third LSTM with Dropout regularization\n",
        "regressor.add(LSTM(units=numberOfNeurons, return_sequences=True))\n",
        "regressor.add(Dropout(dropoutRate))\n",
        "\n",
        "# Add forth LSTM with Dropout regularization\n",
        "regressor.add(LSTM(units=numberOfNeurons, return_sequences=True))\n",
        "regressor.add(Dropout(dropoutRate))\n",
        "\n",
        "# Add fifth LSTM with Dropout regularization\n",
        "regressor.add(LSTM(units=numberOfNeurons, return_sequences=False))\n",
        "regressor.add(Dropout(dropoutRate))\n",
        "\n",
        "# Add output layer\n",
        "regressor.add(Dense(units=denseUnits))\n",
        "\n",
        "# Compiling the RNN\n",
        "regressor.compile(optimizer=opt, loss=lossFunction)"
      ],
      "execution_count": 39,
      "outputs": []
    },
    {
      "cell_type": "markdown",
      "metadata": {
        "id": "iQpwjbnSMhbu",
        "colab_type": "text"
      },
      "source": [
        "Fitting the RNN regressor to the training set\n"
      ]
    },
    {
      "cell_type": "code",
      "metadata": {
        "id": "M4OW8SQ1Mj-_",
        "colab_type": "code",
        "colab": {
          "base_uri": "https://localhost:8080/",
          "height": 1000
        },
        "outputId": "75a5968a-1c37-4766-8246-02973bcd1a7b"
      },
      "source": [
        "regressor.fit(X_train, y_train, epochs=100, batch_size=32)"
      ],
      "execution_count": 40,
      "outputs": [
        {
          "output_type": "stream",
          "text": [
            "Epoch 1/100\n",
            "1138/1138 [==============================] - 24s 22ms/step - loss: 0.0298\n",
            "Epoch 2/100\n",
            "1138/1138 [==============================] - 22s 19ms/step - loss: 0.0052\n",
            "Epoch 3/100\n",
            "1138/1138 [==============================] - 22s 19ms/step - loss: 0.0048\n",
            "Epoch 4/100\n",
            "1138/1138 [==============================] - 22s 19ms/step - loss: 0.0045\n",
            "Epoch 5/100\n",
            "1138/1138 [==============================] - 22s 19ms/step - loss: 0.0041\n",
            "Epoch 6/100\n",
            "1138/1138 [==============================] - 22s 19ms/step - loss: 0.0044\n",
            "Epoch 7/100\n",
            "1138/1138 [==============================] - 22s 19ms/step - loss: 0.0040\n",
            "Epoch 8/100\n",
            "1138/1138 [==============================] - 22s 19ms/step - loss: 0.0036\n",
            "Epoch 9/100\n",
            "1138/1138 [==============================] - 22s 19ms/step - loss: 0.0040\n",
            "Epoch 10/100\n",
            "1138/1138 [==============================] - 22s 19ms/step - loss: 0.0042\n",
            "Epoch 11/100\n",
            "1138/1138 [==============================] - 22s 19ms/step - loss: 0.0040\n",
            "Epoch 12/100\n",
            "1138/1138 [==============================] - 22s 19ms/step - loss: 0.0036\n",
            "Epoch 13/100\n",
            "1138/1138 [==============================] - 22s 19ms/step - loss: 0.0037\n",
            "Epoch 14/100\n",
            "1138/1138 [==============================] - 22s 19ms/step - loss: 0.0033\n",
            "Epoch 15/100\n",
            "1138/1138 [==============================] - 22s 19ms/step - loss: 0.0040\n",
            "Epoch 16/100\n",
            "1138/1138 [==============================] - 22s 19ms/step - loss: 0.0030\n",
            "Epoch 17/100\n",
            "1138/1138 [==============================] - 22s 19ms/step - loss: 0.0031\n",
            "Epoch 18/100\n",
            "1138/1138 [==============================] - 22s 19ms/step - loss: 0.0030\n",
            "Epoch 19/100\n",
            "1138/1138 [==============================] - 22s 19ms/step - loss: 0.0029\n",
            "Epoch 20/100\n",
            "1138/1138 [==============================] - 22s 19ms/step - loss: 0.0026\n",
            "Epoch 21/100\n",
            "1138/1138 [==============================] - 22s 19ms/step - loss: 0.0027\n",
            "Epoch 22/100\n",
            "1138/1138 [==============================] - 22s 19ms/step - loss: 0.0035\n",
            "Epoch 23/100\n",
            "1138/1138 [==============================] - 22s 20ms/step - loss: 0.0031\n",
            "Epoch 24/100\n",
            "1138/1138 [==============================] - 22s 19ms/step - loss: 0.0031\n",
            "Epoch 25/100\n",
            "1138/1138 [==============================] - 22s 19ms/step - loss: 0.0026\n",
            "Epoch 26/100\n",
            "1138/1138 [==============================] - 22s 20ms/step - loss: 0.0026\n",
            "Epoch 27/100\n",
            "1138/1138 [==============================] - 22s 19ms/step - loss: 0.0025\n",
            "Epoch 28/100\n",
            "1138/1138 [==============================] - 22s 19ms/step - loss: 0.0024\n",
            "Epoch 29/100\n",
            "1138/1138 [==============================] - 22s 19ms/step - loss: 0.0022\n",
            "Epoch 30/100\n",
            "1138/1138 [==============================] - 22s 19ms/step - loss: 0.0024\n",
            "Epoch 31/100\n",
            "1138/1138 [==============================] - 22s 19ms/step - loss: 0.0025\n",
            "Epoch 32/100\n",
            "1138/1138 [==============================] - 22s 19ms/step - loss: 0.0023\n",
            "Epoch 33/100\n",
            "1138/1138 [==============================] - 22s 19ms/step - loss: 0.0022\n",
            "Epoch 34/100\n",
            "1138/1138 [==============================] - 22s 19ms/step - loss: 0.0024\n",
            "Epoch 35/100\n",
            "1138/1138 [==============================] - 22s 19ms/step - loss: 0.0026\n",
            "Epoch 36/100\n",
            "1138/1138 [==============================] - 22s 19ms/step - loss: 0.0022\n",
            "Epoch 37/100\n",
            "1138/1138 [==============================] - 22s 19ms/step - loss: 0.0024\n",
            "Epoch 38/100\n",
            "1138/1138 [==============================] - 22s 19ms/step - loss: 0.0023\n",
            "Epoch 39/100\n",
            "1138/1138 [==============================] - 22s 19ms/step - loss: 0.0021\n",
            "Epoch 40/100\n",
            "1138/1138 [==============================] - 22s 19ms/step - loss: 0.0023\n",
            "Epoch 41/100\n",
            "1138/1138 [==============================] - 22s 19ms/step - loss: 0.0022\n",
            "Epoch 42/100\n",
            "1138/1138 [==============================] - 22s 19ms/step - loss: 0.0021\n",
            "Epoch 43/100\n",
            "1138/1138 [==============================] - 22s 19ms/step - loss: 0.0021\n",
            "Epoch 44/100\n",
            "1138/1138 [==============================] - 22s 19ms/step - loss: 0.0019\n",
            "Epoch 45/100\n",
            "1138/1138 [==============================] - 22s 20ms/step - loss: 0.0019\n",
            "Epoch 46/100\n",
            "1138/1138 [==============================] - 22s 20ms/step - loss: 0.0018\n",
            "Epoch 47/100\n",
            "1138/1138 [==============================] - 22s 20ms/step - loss: 0.0020\n",
            "Epoch 48/100\n",
            "1138/1138 [==============================] - 22s 20ms/step - loss: 0.0018\n",
            "Epoch 49/100\n",
            "1138/1138 [==============================] - 22s 20ms/step - loss: 0.0017\n",
            "Epoch 50/100\n",
            "1138/1138 [==============================] - 22s 20ms/step - loss: 0.0018\n",
            "Epoch 51/100\n",
            "1138/1138 [==============================] - 22s 20ms/step - loss: 0.0018\n",
            "Epoch 52/100\n",
            "1138/1138 [==============================] - 22s 20ms/step - loss: 0.0017\n",
            "Epoch 53/100\n",
            "1138/1138 [==============================] - 22s 20ms/step - loss: 0.0022\n",
            "Epoch 54/100\n",
            "1138/1138 [==============================] - 22s 20ms/step - loss: 0.0015\n",
            "Epoch 55/100\n",
            "1138/1138 [==============================] - 22s 19ms/step - loss: 0.0016\n",
            "Epoch 56/100\n",
            "1138/1138 [==============================] - 22s 19ms/step - loss: 0.0016\n",
            "Epoch 57/100\n",
            "1138/1138 [==============================] - 22s 19ms/step - loss: 0.0019\n",
            "Epoch 58/100\n",
            "1138/1138 [==============================] - 22s 19ms/step - loss: 0.0015\n",
            "Epoch 59/100\n",
            "1138/1138 [==============================] - 22s 19ms/step - loss: 0.0016\n",
            "Epoch 60/100\n",
            "1138/1138 [==============================] - 22s 19ms/step - loss: 0.0016\n",
            "Epoch 61/100\n",
            "1138/1138 [==============================] - 22s 19ms/step - loss: 0.0015\n",
            "Epoch 62/100\n",
            "1138/1138 [==============================] - 22s 19ms/step - loss: 0.0015\n",
            "Epoch 63/100\n",
            "1138/1138 [==============================] - 22s 20ms/step - loss: 0.0016\n",
            "Epoch 64/100\n",
            "1138/1138 [==============================] - 22s 20ms/step - loss: 0.0016\n",
            "Epoch 65/100\n",
            "1138/1138 [==============================] - 22s 20ms/step - loss: 0.0017\n",
            "Epoch 66/100\n",
            "1138/1138 [==============================] - 22s 19ms/step - loss: 0.0014\n",
            "Epoch 67/100\n",
            "1138/1138 [==============================] - 22s 19ms/step - loss: 0.0015\n",
            "Epoch 68/100\n",
            "1138/1138 [==============================] - 22s 20ms/step - loss: 0.0018\n",
            "Epoch 69/100\n",
            "1138/1138 [==============================] - 22s 19ms/step - loss: 0.0013\n",
            "Epoch 70/100\n",
            "1138/1138 [==============================] - 22s 19ms/step - loss: 0.0014\n",
            "Epoch 71/100\n",
            "1138/1138 [==============================] - 22s 19ms/step - loss: 0.0014\n",
            "Epoch 72/100\n",
            "1138/1138 [==============================] - 22s 19ms/step - loss: 0.0018\n",
            "Epoch 73/100\n",
            "1138/1138 [==============================] - 22s 19ms/step - loss: 0.0015\n",
            "Epoch 74/100\n",
            "1138/1138 [==============================] - 22s 19ms/step - loss: 0.0015\n",
            "Epoch 75/100\n",
            "1138/1138 [==============================] - 22s 19ms/step - loss: 0.0014\n",
            "Epoch 76/100\n",
            "1138/1138 [==============================] - 22s 19ms/step - loss: 0.0013\n",
            "Epoch 77/100\n",
            "1138/1138 [==============================] - 22s 19ms/step - loss: 0.0015\n",
            "Epoch 78/100\n",
            "1138/1138 [==============================] - 22s 19ms/step - loss: 0.0013\n",
            "Epoch 79/100\n",
            "1138/1138 [==============================] - 22s 19ms/step - loss: 0.0013\n",
            "Epoch 80/100\n",
            "1138/1138 [==============================] - 22s 19ms/step - loss: 0.0013\n",
            "Epoch 81/100\n",
            "1138/1138 [==============================] - 22s 20ms/step - loss: 0.0013\n",
            "Epoch 82/100\n",
            "1138/1138 [==============================] - 22s 20ms/step - loss: 0.0015\n",
            "Epoch 83/100\n",
            "1138/1138 [==============================] - 22s 20ms/step - loss: 0.0015\n",
            "Epoch 84/100\n",
            "1138/1138 [==============================] - 22s 20ms/step - loss: 0.0014\n",
            "Epoch 85/100\n",
            "1138/1138 [==============================] - 22s 20ms/step - loss: 0.0013\n",
            "Epoch 86/100\n",
            "1138/1138 [==============================] - 22s 19ms/step - loss: 0.0014\n",
            "Epoch 87/100\n",
            "1138/1138 [==============================] - 22s 19ms/step - loss: 0.0014\n",
            "Epoch 88/100\n",
            "1138/1138 [==============================] - 22s 19ms/step - loss: 0.0015\n",
            "Epoch 89/100\n",
            "1138/1138 [==============================] - 22s 19ms/step - loss: 0.0014\n",
            "Epoch 90/100\n",
            "1138/1138 [==============================] - 22s 19ms/step - loss: 0.0013\n",
            "Epoch 91/100\n",
            "1138/1138 [==============================] - 22s 19ms/step - loss: 0.0012\n",
            "Epoch 92/100\n",
            "1138/1138 [==============================] - 22s 19ms/step - loss: 0.0013\n",
            "Epoch 93/100\n",
            "1138/1138 [==============================] - 22s 19ms/step - loss: 0.0014\n",
            "Epoch 94/100\n",
            "1138/1138 [==============================] - 22s 19ms/step - loss: 0.0012\n",
            "Epoch 95/100\n",
            "1138/1138 [==============================] - 22s 19ms/step - loss: 0.0012\n",
            "Epoch 96/100\n",
            "1138/1138 [==============================] - 22s 20ms/step - loss: 0.0013\n",
            "Epoch 97/100\n",
            "1138/1138 [==============================] - 22s 19ms/step - loss: 0.0012\n",
            "Epoch 98/100\n",
            "1138/1138 [==============================] - 22s 19ms/step - loss: 0.0012\n",
            "Epoch 99/100\n",
            "1138/1138 [==============================] - 22s 19ms/step - loss: 0.0013\n",
            "Epoch 100/100\n",
            "1138/1138 [==============================] - 22s 19ms/step - loss: 0.0011\n"
          ],
          "name": "stdout"
        },
        {
          "output_type": "execute_result",
          "data": {
            "text/plain": [
              "<keras.callbacks.callbacks.History at 0x7f0585c33c88>"
            ]
          },
          "metadata": {
            "tags": []
          },
          "execution_count": 40
        }
      ]
    },
    {
      "cell_type": "markdown",
      "metadata": {
        "id": "SlcmnaoTT59h",
        "colab_type": "text"
      },
      "source": [
        "Making predictions and visualizing"
      ]
    },
    {
      "cell_type": "code",
      "metadata": {
        "id": "Pd3CsikuT28c",
        "colab_type": "code",
        "colab": {}
      },
      "source": [
        "# Import test set\n",
        "dataset_test = pd.read_csv('/content/drive/My Drive/Colab Notebooks/rnn/Google_Stock_Price_Test.csv')\n",
        "real_stock_price = dataset_test.iloc[:, 1:2].values\n",
        "# Predict the stock price of 2017\n",
        "# Concatenate training + test set\n",
        "dataset_total = pd.concat((dataset_train['Open'],dataset_test['Open']), axis=0)\n",
        "inputs = dataset_total[len(dataset_total) - len(dataset_test) - numberOfSteps:].values\n",
        "inputs = inputs.reshape(-1,1)\n",
        "inputs = sc.transform(inputs)\n",
        "\n",
        "X_test = []\n",
        "for i in range(numberOfSteps, len(inputs)):\n",
        "  X_test.append(inputs[i-numberOfSteps:i, 0])\n",
        "X_test = np.array(X_test)\n",
        "\n",
        "X_test = np.reshape(X_test,(X_test.shape[0], X_test.shape[1], 1))\n",
        "predicted_stock_price = regressor.predict(X_test)\n",
        "predicted_stock_price = sc.inverse_transform(predicted_stock_price)\n"
      ],
      "execution_count": 51,
      "outputs": []
    },
    {
      "cell_type": "markdown",
      "metadata": {
        "id": "zhcRpTjVPuBd",
        "colab_type": "text"
      },
      "source": [
        "Plot the Results"
      ]
    },
    {
      "cell_type": "code",
      "metadata": {
        "id": "_Lr2FzFVPvkE",
        "colab_type": "code",
        "colab": {
          "base_uri": "https://localhost:8080/",
          "height": 295
        },
        "outputId": "637d2c14-fb40-4948-d721-72f7a8c39721"
      },
      "source": [
        "# Using plt to plot the chart\n",
        "plt.plot(real_stock_price, color= \"red\", label=\"Real Goodle Stock Price\")\n",
        "plt.plot(predicted_stock_price, color= \"blue\", label=\"Predicted Goodle Stock Price\")\n",
        "plt.title(\"Google Stock Price prediction\")\n",
        "plt.xlabel(\"Time\")\n",
        "plt.ylabel(\"Google Stock price\")\n",
        "plt.legend()\n",
        "plt.show()\n"
      ],
      "execution_count": 52,
      "outputs": [
        {
          "output_type": "display_data",
          "data": {
            "image/png": "[encoded data removed]",
            "text/plain": [
              "<Figure size 432x288 with 1 Axes>"
            ]
          },
          "metadata": {
            "tags": [],
            "needs_background": "light"
          }
        }
      ]
    }
  ]
}